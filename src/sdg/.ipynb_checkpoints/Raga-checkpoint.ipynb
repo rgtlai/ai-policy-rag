{
 "cells": [
  {
   "cell_type": "code",
   "execution_count": null,
   "id": "4ef59cae-b968-4128-997b-886e9eb70ec0",
   "metadata": {},
   "outputs": [],
   "source": []
  }
 ],
 "metadata": {
  "kernelspec": {
   "display_name": "Python 3 (ipykernel)",
   "language": "python",
   "name": "python3"
  },
  "language_info": {
   "codemirror_mode": {
    "name": "ipython",
    "version": 3
   },
   "file_extension": ".py",
   "mimetype": "text/x-python",
   "name": "python",
   "nbconvert_exporter": "python",
   "pygments_lexer": "ipython3",
   "version": "3.11.10"
  }
 },
 "nbformat": 4,
 "nbformat_minor": 5
}
